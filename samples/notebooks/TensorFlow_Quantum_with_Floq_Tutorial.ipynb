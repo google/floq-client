{
  "nbformat": 4,
  "nbformat_minor": 0,
  "metadata": {
    "colab": {
      "name": "TensorFlow Quantum with Floq Tutorial.ipynb",
      "provenance": [],
      "collapsed_sections": []
    },
    "kernelspec": {
      "name": "python3",
      "display_name": "Python 3"
    },
    "language_info": {
      "name": "python"
    }
  },
  "cells": [
    {
      "cell_type": "markdown",
      "metadata": {
        "id": "5sAFtvqiiM3t"
      },
      "source": [
        "Copyright 2021 Floq authors.\n",
        "\n",
        "Licensed under the Apache License, Version 2.0 (the \"License\");"
      ]
    },
    {
      "cell_type": "code",
      "metadata": {
        "id": "QAIEPJm3iY50"
      },
      "source": [
        "#@title Copyright 2021 Floq authors, All Rights Reserved.\n",
        "# Licensed under the Apache License, Version 2.0 (the \"License\");\n",
        "# you may not use this file except in compliance with the License.\n",
        "# You may obtain a copy of the License at\n",
        "#\n",
        "# https://www.apache.org/licenses/LICENSE-2.0\n",
        "#\n",
        "# Unless required by applicable law or agreed to in writing, software\n",
        "# distributed under the License is distributed on an \"AS IS\" BASIS,\n",
        "# WITHOUT WARRANTIES OR CONDITIONS OF ANY KIND, either express or implied.\n",
        "# See the License for the specific language governing permissions and\n",
        "# limitations under the License."
      ],
      "execution_count": null,
      "outputs": []
    },
    {
      "cell_type": "markdown",
      "metadata": {
        "id": "-sSF6cwjia-s"
      },
      "source": [
        "In this tutorial, we introduce how to use TensorFlow Quantum with Floq backend. "
      ]
    },
    {
      "cell_type": "markdown",
      "metadata": {
        "id": "1TbDaSEmdHIV"
      },
      "source": [
        "# Setup"
      ]
    },
    {
      "cell_type": "markdown",
      "metadata": {
        "id": "NSjEt8NAhF1V"
      },
      "source": [
        "Firstly, Please make sure that the versions of all libraries should match for the successful execution."
      ]
    },
    {
      "cell_type": "code",
      "metadata": {
        "colab": {
          "base_uri": "https://localhost:8080/"
        },
        "id": "D10rprCSRac3",
        "outputId": "baedb1fa-79be-4903-b2d0-016f166a7900"
      },
      "source": [
        "!pip install tensorflow==2.4.1 --quiet\n",
        "!pip install tensorflow-quantum==0.5.0 --quiet\n",
        "!pip install floq-client==0.1.1 --quiet"
      ],
      "execution_count": null,
      "outputs": [
        {
          "output_type": "stream",
          "text": [
            "\u001b[K     |████████████████████████████████| 394.3MB 42kB/s \n",
            "\u001b[K     |████████████████████████████████| 471kB 37.3MB/s \n",
            "\u001b[K     |████████████████████████████████| 2.9MB 8.7MB/s \n",
            "\u001b[K     |████████████████████████████████| 3.8MB 20.8MB/s \n",
            "\u001b[K     |████████████████████████████████| 7.8MB 3.3MB/s \n",
            "\u001b[K     |████████████████████████████████| 92kB 11.1MB/s \n",
            "\u001b[K     |████████████████████████████████| 92kB 10.9MB/s \n",
            "\u001b[K     |████████████████████████████████| 3.0MB 30.3MB/s \n",
            "\u001b[K     |████████████████████████████████| 5.6MB 17.7MB/s \n",
            "\u001b[K     |████████████████████████████████| 1.3MB 35.2MB/s \n",
            "\u001b[K     |████████████████████████████████| 102kB 11.8MB/s \n",
            "\u001b[K     |████████████████████████████████| 389kB 57.2MB/s \n",
            "\u001b[K     |████████████████████████████████| 1.5MB 36.5MB/s \n",
            "\u001b[31mERROR: tensorflow 2.4.1 has requirement grpcio~=1.32.0, but you'll have grpcio 1.30.0 which is incompatible.\u001b[0m\n",
            "\u001b[K     |████████████████████████████████| 51kB 2.1MB/s \n",
            "\u001b[K     |████████████████████████████████| 51kB 3.7MB/s \n",
            "\u001b[K     |████████████████████████████████| 1.8MB 5.0MB/s \n",
            "\u001b[K     |████████████████████████████████| 61kB 5.7MB/s \n",
            "\u001b[K     |████████████████████████████████| 3.2MB 12.8MB/s \n",
            "\u001b[31mERROR: tensorflow-quantum 0.5.0 has requirement cirq==0.11.0, but you'll have cirq 0.10.0 which is incompatible.\u001b[0m\n",
            "\u001b[31mERROR: google-colab 1.0.0 has requirement requests~=2.23.0, but you'll have requests 2.25.1 which is incompatible.\u001b[0m\n",
            "\u001b[31mERROR: datascience 0.10.6 has requirement folium==0.2.1, but you'll have folium 0.8.3 which is incompatible.\u001b[0m\n",
            "\u001b[?25h"
          ],
          "name": "stdout"
        }
      ]
    },
    {
      "cell_type": "code",
      "metadata": {
        "id": "__kLfziVXIOV"
      },
      "source": [
        "import floq.client\n",
        "import tensorflow_quantum as tfq\n",
        "import cirq\n",
        "import numpy as np\n",
        "import sys\n",
        "\n",
        "num_qubits = 26  # The minimum number of qubits is 26 for Floq.\n",
        "np.random.seed(0)"
      ],
      "execution_count": null,
      "outputs": []
    },
    {
      "cell_type": "markdown",
      "metadata": {
        "id": "ISBChNf1hMIt"
      },
      "source": [
        "# Circuit preparation"
      ]
    },
    {
      "cell_type": "markdown",
      "metadata": {
        "id": "X1-oPLf5dMUW"
      },
      "source": [
        "## Construct a Cirq circuit"
      ]
    },
    {
      "cell_type": "code",
      "metadata": {
        "colab": {
          "base_uri": "https://localhost:8080/",
          "height": 898
        },
        "id": "18vQt8EFcv4b",
        "outputId": "d74476cf-4a21-45a2-aae1-a624b5c1516d"
      },
      "source": [
        "qubits = cirq.GridQubit.rect(1, num_qubits)  # TFQ only accepts cirq.GridQubit\n",
        "my_circuit = cirq.Circuit(cirq.H.on_each(qubits))\n",
        "for q1, q2 in zip(qubits[-2::-1], qubits[::-1]):\n",
        "  my_circuit += cirq.Circuit(cirq.CNOT.on(q1, q2))\n",
        "my_circuit"
      ],
      "execution_count": null,
      "outputs": [
        {
          "output_type": "execute_result",
          "data": {
            "text/html": [
              "<pre style=\"overflow: auto; white-space: pre;\">(0, 0): ────H───────────────────────────────────────────────────────────────────────────────────────────────────@───\n",
              "                                                                                                                │\n",
              "(0, 1): ────H───────────────────────────────────────────────────────────────────────────────────────────────@───X───\n",
              "                                                                                                            │\n",
              "(0, 2): ────H───────────────────────────────────────────────────────────────────────────────────────────@───X───────\n",
              "                                                                                                        │\n",
              "(0, 3): ────H───────────────────────────────────────────────────────────────────────────────────────@───X───────────\n",
              "                                                                                                    │\n",
              "(0, 4): ────H───────────────────────────────────────────────────────────────────────────────────@───X───────────────\n",
              "                                                                                                │\n",
              "(0, 5): ────H───────────────────────────────────────────────────────────────────────────────@───X───────────────────\n",
              "                                                                                            │\n",
              "(0, 6): ────H───────────────────────────────────────────────────────────────────────────@───X───────────────────────\n",
              "                                                                                        │\n",
              "(0, 7): ────H───────────────────────────────────────────────────────────────────────@───X───────────────────────────\n",
              "                                                                                    │\n",
              "(0, 8): ────H───────────────────────────────────────────────────────────────────@───X───────────────────────────────\n",
              "                                                                                │\n",
              "(0, 9): ────H───────────────────────────────────────────────────────────────@───X───────────────────────────────────\n",
              "                                                                            │\n",
              "(0, 10): ───H───────────────────────────────────────────────────────────@───X───────────────────────────────────────\n",
              "                                                                        │\n",
              "(0, 11): ───H───────────────────────────────────────────────────────@───X───────────────────────────────────────────\n",
              "                                                                    │\n",
              "(0, 12): ───H───────────────────────────────────────────────────@───X───────────────────────────────────────────────\n",
              "                                                                │\n",
              "(0, 13): ───H───────────────────────────────────────────────@───X───────────────────────────────────────────────────\n",
              "                                                            │\n",
              "(0, 14): ───H───────────────────────────────────────────@───X───────────────────────────────────────────────────────\n",
              "                                                        │\n",
              "(0, 15): ───H───────────────────────────────────────@───X───────────────────────────────────────────────────────────\n",
              "                                                    │\n",
              "(0, 16): ───H───────────────────────────────────@───X───────────────────────────────────────────────────────────────\n",
              "                                                │\n",
              "(0, 17): ───H───────────────────────────────@───X───────────────────────────────────────────────────────────────────\n",
              "                                            │\n",
              "(0, 18): ───H───────────────────────────@───X───────────────────────────────────────────────────────────────────────\n",
              "                                        │\n",
              "(0, 19): ───H───────────────────────@───X───────────────────────────────────────────────────────────────────────────\n",
              "                                    │\n",
              "(0, 20): ───H───────────────────@───X───────────────────────────────────────────────────────────────────────────────\n",
              "                                │\n",
              "(0, 21): ───H───────────────@───X───────────────────────────────────────────────────────────────────────────────────\n",
              "                            │\n",
              "(0, 22): ───H───────────@───X───────────────────────────────────────────────────────────────────────────────────────\n",
              "                        │\n",
              "(0, 23): ───H───────@───X───────────────────────────────────────────────────────────────────────────────────────────\n",
              "                    │\n",
              "(0, 24): ───H───@───X───────────────────────────────────────────────────────────────────────────────────────────────\n",
              "                │\n",
              "(0, 25): ───H───X───────────────────────────────────────────────────────────────────────────────────────────────────</pre>"
            ],
            "text/plain": [
              "(0, 0): ────H───────────────────────────────────────────────────────────────────────────────────────────────────@───\n",
              "                                                                                                                │\n",
              "(0, 1): ────H───────────────────────────────────────────────────────────────────────────────────────────────@───X───\n",
              "                                                                                                            │\n",
              "(0, 2): ────H───────────────────────────────────────────────────────────────────────────────────────────@───X───────\n",
              "                                                                                                        │\n",
              "(0, 3): ────H───────────────────────────────────────────────────────────────────────────────────────@───X───────────\n",
              "                                                                                                    │\n",
              "(0, 4): ────H───────────────────────────────────────────────────────────────────────────────────@───X───────────────\n",
              "                                                                                                │\n",
              "(0, 5): ────H───────────────────────────────────────────────────────────────────────────────@───X───────────────────\n",
              "                                                                                            │\n",
              "(0, 6): ────H───────────────────────────────────────────────────────────────────────────@───X───────────────────────\n",
              "                                                                                        │\n",
              "(0, 7): ────H───────────────────────────────────────────────────────────────────────@───X───────────────────────────\n",
              "                                                                                    │\n",
              "(0, 8): ────H───────────────────────────────────────────────────────────────────@───X───────────────────────────────\n",
              "                                                                                │\n",
              "(0, 9): ────H───────────────────────────────────────────────────────────────@───X───────────────────────────────────\n",
              "                                                                            │\n",
              "(0, 10): ───H───────────────────────────────────────────────────────────@───X───────────────────────────────────────\n",
              "                                                                        │\n",
              "(0, 11): ───H───────────────────────────────────────────────────────@───X───────────────────────────────────────────\n",
              "                                                                    │\n",
              "(0, 12): ───H───────────────────────────────────────────────────@───X───────────────────────────────────────────────\n",
              "                                                                │\n",
              "(0, 13): ───H───────────────────────────────────────────────@───X───────────────────────────────────────────────────\n",
              "                                                            │\n",
              "(0, 14): ───H───────────────────────────────────────────@───X───────────────────────────────────────────────────────\n",
              "                                                        │\n",
              "(0, 15): ───H───────────────────────────────────────@───X───────────────────────────────────────────────────────────\n",
              "                                                    │\n",
              "(0, 16): ───H───────────────────────────────────@───X───────────────────────────────────────────────────────────────\n",
              "                                                │\n",
              "(0, 17): ───H───────────────────────────────@───X───────────────────────────────────────────────────────────────────\n",
              "                                            │\n",
              "(0, 18): ───H───────────────────────────@───X───────────────────────────────────────────────────────────────────────\n",
              "                                        │\n",
              "(0, 19): ───H───────────────────────@───X───────────────────────────────────────────────────────────────────────────\n",
              "                                    │\n",
              "(0, 20): ───H───────────────────@───X───────────────────────────────────────────────────────────────────────────────\n",
              "                                │\n",
              "(0, 21): ───H───────────────@───X───────────────────────────────────────────────────────────────────────────────────\n",
              "                            │\n",
              "(0, 22): ───H───────────@───X───────────────────────────────────────────────────────────────────────────────────────\n",
              "                        │\n",
              "(0, 23): ───H───────@───X───────────────────────────────────────────────────────────────────────────────────────────\n",
              "                    │\n",
              "(0, 24): ───H───@───X───────────────────────────────────────────────────────────────────────────────────────────────\n",
              "                │\n",
              "(0, 25): ───H───X───────────────────────────────────────────────────────────────────────────────────────────────────"
            ]
          },
          "metadata": {
            "tags": []
          },
          "execution_count": 4
        }
      ]
    },
    {
      "cell_type": "markdown",
      "metadata": {
        "id": "cQcABoA-dgVi"
      },
      "source": [
        "## Define Observables"
      ]
    },
    {
      "cell_type": "code",
      "metadata": {
        "id": "iQzSSdeKetSv"
      },
      "source": [
        "observables = [cirq.Y(qubits[0]), 2.0 * cirq.Z(qubits[0]) - 1.0 * cirq.X(qubits[1])]"
      ],
      "execution_count": null,
      "outputs": []
    },
    {
      "cell_type": "markdown",
      "metadata": {
        "id": "f9cN1nPpgbz_"
      },
      "source": [
        "## Convert them into TF tensor for TFQuantum"
      ]
    },
    {
      "cell_type": "code",
      "metadata": {
        "id": "Satj2gMMgdG0"
      },
      "source": [
        "my_circuit_tensor = tfq.convert_to_tensor([my_circuit])\n",
        "observables_tensor = tfq.convert_to_tensor([observables])"
      ],
      "execution_count": null,
      "outputs": []
    },
    {
      "cell_type": "markdown",
      "metadata": {
        "id": "miAno9nfhTc9"
      },
      "source": [
        "# Simulation with Floq"
      ]
    },
    {
      "cell_type": "markdown",
      "metadata": {
        "id": "vo8_ihqQc_FF"
      },
      "source": [
        "## Create a Floq Client & Simulator with your API key"
      ]
    },
    {
      "cell_type": "code",
      "metadata": {
        "id": "2GVmdIizcsCz"
      },
      "source": [
        "API_KEY = \"YOUR_API_KEY\" #@param {type:\"string\"}\n",
        "client = floq.client.CirqClient(API_KEY)\n",
        "sim = client.simulator"
      ],
      "execution_count": null,
      "outputs": []
    },
    {
      "cell_type": "markdown",
      "metadata": {
        "id": "FKRpFV4Le9C5"
      },
      "source": [
        "## Construct a TFQ Expectation layer"
      ]
    },
    {
      "cell_type": "code",
      "metadata": {
        "id": "BWw7AaTEe7-6"
      },
      "source": [
        "tfq_floq_exp_layer = tfq.layers.Expectation(backend=sim)\n",
        "exp = tfq_floq_exp_layer(my_circuit_tensor, operators=observables_tensor)"
      ],
      "execution_count": null,
      "outputs": []
    },
    {
      "cell_type": "code",
      "metadata": {
        "id": "87egt-ZXgJst"
      },
      "source": [
        "exp"
      ],
      "execution_count": null,
      "outputs": []
    },
    {
      "cell_type": "markdown",
      "metadata": {
        "id": "R49T3xMxgYzQ"
      },
      "source": [
        "## Construct a TFQ sample layer"
      ]
    },
    {
      "cell_type": "code",
      "metadata": {
        "id": "Y_WHdqqqfdPC"
      },
      "source": [
        "tfq_floq_sample_layer = tfq.layers.Sample(backend=sim)\n",
        "sample_ragged_tensor = tfq_floq_sample_layer(my_circuit_tensor, repetitions=10000)"
      ],
      "execution_count": null,
      "outputs": []
    },
    {
      "cell_type": "code",
      "metadata": {
        "id": "ypTGmgoqgkBn"
      },
      "source": [
        "sample_ragged_tensor"
      ],
      "execution_count": null,
      "outputs": []
    },
    {
      "cell_type": "code",
      "metadata": {
        "id": "WHxVAmYOg3V6"
      },
      "source": [
        "sample_tensor = sample_ragged_tensor.values.to_tensor()"
      ],
      "execution_count": null,
      "outputs": []
    },
    {
      "cell_type": "code",
      "metadata": {
        "id": "KpHfkyE6g8Xr"
      },
      "source": [
        "sample_tensor"
      ],
      "execution_count": null,
      "outputs": []
    }
  ]
}