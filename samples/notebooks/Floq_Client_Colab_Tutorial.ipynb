{
  "nbformat": 4,
  "nbformat_minor": 0,
  "metadata": {
    "colab": {
      "name": "Floq Client Colab Tutorial",
      "provenance": [],
      "collapsed_sections": []
    },
    "kernelspec": {
      "name": "python3",
      "display_name": "Python 3"
    },
    "language_info": {
      "name": "python"
    }
  },
  "cells": [
    {
      "cell_type": "markdown",
      "metadata": {
        "id": "BA4x-JwReATi"
      },
      "source": [
        "Copyright 2021 Floq authors.\n",
        "\n",
        "Licensed under the Apache License, Version 2.0 (the \"License\");"
      ]
    },
    {
      "cell_type": "code",
      "metadata": {
        "id": "r_T_EAyqeM--"
      },
      "source": [
        "#@title Copyright 2021 Floq authors, All Rights Reserved.\n",
        "# Licensed under the Apache License, Version 2.0 (the \"License\");\n",
        "# you may not use this file except in compliance with the License.\n",
        "# You may obtain a copy of the License at\n",
        "#\n",
        "# https://www.apache.org/licenses/LICENSE-2.0\n",
        "#\n",
        "# Unless required by applicable law or agreed to in writing, software\n",
        "# distributed under the License is distributed on an \"AS IS\" BASIS,\n",
        "# WITHOUT WARRANTIES OR CONDITIONS OF ANY KIND, either express or implied.\n",
        "# See the License for the specific language governing permissions and\n",
        "# limitations under the License."
      ],
      "execution_count": null,
      "outputs": []
    },
    {
      "cell_type": "markdown",
      "metadata": {
        "id": "BRRw-AIWZqlc"
      },
      "source": [
        "## Setup"
      ]
    },
    {
      "cell_type": "code",
      "metadata": {
        "id": "4OaF0QTPKp9v"
      },
      "source": [
        "!pip install floq_client --quiet"
      ],
      "execution_count": null,
      "outputs": []
    },
    {
      "cell_type": "code",
      "metadata": {
        "id": "IaugKX-sZW_E"
      },
      "source": [
        "# Imports\n",
        "import numpy as np\n",
        "import sympy\n",
        "\n",
        "import cirq\n",
        "import floq.client"
      ],
      "execution_count": null,
      "outputs": []
    },
    {
      "cell_type": "markdown",
      "metadata": {
        "id": "qvL0neTKZzMT"
      },
      "source": [
        "## Floq simulation"
      ]
    },
    {
      "cell_type": "code",
      "metadata": {
        "id": "m_8G8NmsKRKO"
      },
      "source": [
        "nrows = 10\n",
        "ncols = 2\n",
        "qubits = cirq.GridQubit.rect(nrows, ncols) # 20 qubits\n",
        "parameters = sympy.symbols([f'a{idx}' for idx in range(nrows * ncols)])\n",
        "circuit = cirq.Circuit(cirq.HPowGate(exponent=p).on(q) for p, q in zip(parameters, qubits))"
      ],
      "execution_count": null,
      "outputs": []
    },
    {
      "cell_type": "markdown",
      "metadata": {
        "id": "o1FtrWaZLyaE"
      },
      "source": [
        "### New observable compatible with Floq"
      ]
    },
    {
      "cell_type": "markdown",
      "metadata": {
        "id": "Q2ZVJ0LjMeWn"
      },
      "source": [
        "Floq accepts observables in the type of `cirq.ops.linear_combinations.PauliSum` only"
      ]
    },
    {
      "cell_type": "code",
      "metadata": {
        "colab": {
          "base_uri": "https://localhost:8080/"
        },
        "id": "52uVoaB0LxmX",
        "outputId": "0f94b8f9-a72c-4cc5-95d9-2de50e2af729"
      },
      "source": [
        "observables = []\n",
        "for i in range(nrows):\n",
        "  for j in range(ncols):\n",
        "    if i < nrows - 1:\n",
        "      observables.append(cirq.Z(qubits[i*ncols + j]) * cirq.Z(qubits[(i + 1)*ncols + j]))\n",
        "      # Z[i * ncols + j] * Z[(i + 1) * ncols + j]\n",
        "    if j < ncols - 1:\n",
        "      observables.append(cirq.Z(qubits[i*ncols + j]) * cirq.Z(qubits[i*ncols + j+1]))\n",
        "      # Z[i * ncols + j] * Z[i * ncols + (j + 1)]\n",
        "len(observables)"
      ],
      "execution_count": null,
      "outputs": [
        {
          "output_type": "execute_result",
          "data": {
            "text/plain": [
              "28"
            ]
          },
          "metadata": {
            "tags": []
          },
          "execution_count": 10
        }
      ]
    },
    {
      "cell_type": "code",
      "metadata": {
        "id": "o07zMbZDhGIh"
      },
      "source": [
        "import copy\n",
        "\n",
        "def sum_pauli_strings(obs):\n",
        "  m = copy.deepcopy(obs[0])\n",
        "  for o in obs[1:]:\n",
        "    m += o\n",
        "  return m\n",
        "\n",
        "def split_observables(obs):\n",
        "# hack: split observables into many buckets with at most 26 terms\n",
        "  obs_buckets = [obs[s:s+25] for s in range(0, len(obs), 25)]\n",
        "  measure = []\n",
        "  for obs in obs_buckets:\n",
        "    measure.append(sum_pauli_strings(obs))\n",
        "  return measure"
      ],
      "execution_count": null,
      "outputs": []
    },
    {
      "cell_type": "code",
      "metadata": {
        "id": "u7LvljJiQUxz"
      },
      "source": [
        "measure = split_observables(observables)"
      ],
      "execution_count": null,
      "outputs": []
    },
    {
      "cell_type": "code",
      "metadata": {
        "colab": {
          "base_uri": "https://localhost:8080/"
        },
        "id": "NkHtjJHeQoyh",
        "outputId": "896b4799-0502-4449-9c7c-a535598ca2e0"
      },
      "source": [
        "[len(m) for m in measure]"
      ],
      "execution_count": null,
      "outputs": [
        {
          "output_type": "execute_result",
          "data": {
            "text/plain": [
              "[25, 3]"
            ]
          },
          "metadata": {
            "tags": []
          },
          "execution_count": 18
        }
      ]
    },
    {
      "cell_type": "code",
      "metadata": {
        "id": "Gjs3WK33WTGh"
      },
      "source": [
        "# These two results should have the same number of Pauli string terms\n",
        "assert sum_pauli_strings(observables) == sum_pauli_strings(measure)"
      ],
      "execution_count": null,
      "outputs": []
    },
    {
      "cell_type": "markdown",
      "metadata": {
        "id": "5IxZpC4gL8cM"
      },
      "source": [
        "### Padding qubits"
      ]
    },
    {
      "cell_type": "markdown",
      "metadata": {
        "id": "lxL4w9P1MFAU"
      },
      "source": [
        "Because Floq's minimum number of qubits is 26, we need to pad it. This will be changed in the future."
      ]
    },
    {
      "cell_type": "code",
      "metadata": {
        "id": "GoOTklQWMEO_"
      },
      "source": [
        "def pad_circuit(circ, qubits):\n",
        "    return circ + cirq.Circuit([cirq.I(q) for q in qubits])\n",
        "\n",
        "def get_pad_qubits(circ):\n",
        "  num = len(circ.all_qubits())\n",
        "  return [cirq.GridQubit(num, pad) for pad in range(26 - num)]"
      ],
      "execution_count": null,
      "outputs": []
    },
    {
      "cell_type": "code",
      "metadata": {
        "id": "0PWqXf0kMN_-"
      },
      "source": [
        "pad_qubits = get_pad_qubits(circuit)\n",
        "padded_circuit = pad_circuit(circuit, pad_qubits)"
      ],
      "execution_count": null,
      "outputs": []
    },
    {
      "cell_type": "code",
      "metadata": {
        "colab": {
          "base_uri": "https://localhost:8080/",
          "height": 898
        },
        "id": "Xo_LA2xlMl6o",
        "outputId": "07d1e49e-0cde-41bf-a7e2-12ef87878dc7"
      },
      "source": [
        "padded_circuit"
      ],
      "execution_count": null,
      "outputs": [
        {
          "output_type": "execute_result",
          "data": {
            "text/html": [
              "<pre style=\"overflow: auto; white-space: pre;\">(0, 0): ────H^a0────────\n",
              "\n",
              "(0, 1): ────H^a1────────\n",
              "\n",
              "(1, 0): ────H^a2────────\n",
              "\n",
              "(1, 1): ────H^a3────────\n",
              "\n",
              "(2, 0): ────H^a4────────\n",
              "\n",
              "(2, 1): ────H^a5────────\n",
              "\n",
              "(3, 0): ────H^a6────────\n",
              "\n",
              "(3, 1): ────H^a7────────\n",
              "\n",
              "(4, 0): ────H^a8────────\n",
              "\n",
              "(4, 1): ────H^a9────────\n",
              "\n",
              "(5, 0): ────H^a10───────\n",
              "\n",
              "(5, 1): ────H^a11───────\n",
              "\n",
              "(6, 0): ────H^a12───────\n",
              "\n",
              "(6, 1): ────H^a13───────\n",
              "\n",
              "(7, 0): ────H^a14───────\n",
              "\n",
              "(7, 1): ────H^a15───────\n",
              "\n",
              "(8, 0): ────H^a16───────\n",
              "\n",
              "(8, 1): ────H^a17───────\n",
              "\n",
              "(9, 0): ────H^a18───────\n",
              "\n",
              "(9, 1): ────H^a19───────\n",
              "\n",
              "(20, 0): ───────────I───\n",
              "\n",
              "(20, 1): ───────────I───\n",
              "\n",
              "(20, 2): ───────────I───\n",
              "\n",
              "(20, 3): ───────────I───\n",
              "\n",
              "(20, 4): ───────────I───\n",
              "\n",
              "(20, 5): ───────────I───</pre>"
            ],
            "text/plain": [
              "(0, 0): ────H^a0────────\n",
              "\n",
              "(0, 1): ────H^a1────────\n",
              "\n",
              "(1, 0): ────H^a2────────\n",
              "\n",
              "(1, 1): ────H^a3────────\n",
              "\n",
              "(2, 0): ────H^a4────────\n",
              "\n",
              "(2, 1): ────H^a5────────\n",
              "\n",
              "(3, 0): ────H^a6────────\n",
              "\n",
              "(3, 1): ────H^a7────────\n",
              "\n",
              "(4, 0): ────H^a8────────\n",
              "\n",
              "(4, 1): ────H^a9────────\n",
              "\n",
              "(5, 0): ────H^a10───────\n",
              "\n",
              "(5, 1): ────H^a11───────\n",
              "\n",
              "(6, 0): ────H^a12───────\n",
              "\n",
              "(6, 1): ────H^a13───────\n",
              "\n",
              "(7, 0): ────H^a14───────\n",
              "\n",
              "(7, 1): ────H^a15───────\n",
              "\n",
              "(8, 0): ────H^a16───────\n",
              "\n",
              "(8, 1): ────H^a17───────\n",
              "\n",
              "(9, 0): ────H^a18───────\n",
              "\n",
              "(9, 1): ────H^a19───────\n",
              "\n",
              "(20, 0): ───────────I───\n",
              "\n",
              "(20, 1): ───────────I───\n",
              "\n",
              "(20, 2): ───────────I───\n",
              "\n",
              "(20, 3): ───────────I───\n",
              "\n",
              "(20, 4): ───────────I───\n",
              "\n",
              "(20, 5): ───────────I───"
            ]
          },
          "metadata": {
            "tags": []
          },
          "execution_count": 23
        }
      ]
    },
    {
      "cell_type": "code",
      "metadata": {
        "id": "lCG1Gw48MJf8"
      },
      "source": [
        "values = np.random.random(len(parameters))\n",
        "resolver = {s: v for s, v in zip(parameters, values)}\n",
        "print(resolver)"
      ],
      "execution_count": null,
      "outputs": []
    },
    {
      "cell_type": "markdown",
      "metadata": {
        "id": "XGTlxl6mMcIR"
      },
      "source": [
        "## Using Floq simulator"
      ]
    },
    {
      "cell_type": "markdown",
      "metadata": {
        "id": "NJS68iN9Nf1o"
      },
      "source": [
        "Before going further, please **FORK THIS COLAB NOTEBOOK**, and **DO NOT SHARE YOUR API KEY WITH OTHERS PLEASE**"
      ]
    },
    {
      "cell_type": "markdown",
      "metadata": {
        "id": "cgUmMYogWnsw"
      },
      "source": [
        "### Create & start a Floq instance"
      ]
    },
    {
      "cell_type": "code",
      "metadata": {
        "id": "mHMKORPyLdxS"
      },
      "source": [
        "# Please specify your API_KEY\n",
        "API_KEY = \"\" #@param {type:\"string\"}"
      ],
      "execution_count": null,
      "outputs": []
    },
    {
      "cell_type": "code",
      "metadata": {
        "id": "e-myF57Ibzes"
      },
      "source": [
        "!floq-client \"$API_KEY\" worker start"
      ],
      "execution_count": null,
      "outputs": []
    },
    {
      "cell_type": "code",
      "metadata": {
        "id": "R51cZ4hbMmit"
      },
      "source": [
        "client = floq.client.CirqClient(API_KEY)"
      ],
      "execution_count": null,
      "outputs": []
    },
    {
      "cell_type": "markdown",
      "metadata": {
        "id": "qu_KpPZYYS6K"
      },
      "source": [
        "### Expectation values from the circuit and measurements"
      ]
    },
    {
      "cell_type": "code",
      "metadata": {
        "id": "WC_Q90CpMZBJ"
      },
      "source": [
        "energy = client.simulator.simulate_expectation_values(padded_circuit, measure, resolver)"
      ],
      "execution_count": null,
      "outputs": []
    },
    {
      "cell_type": "code",
      "metadata": {
        "id": "3ZPG_TIxRpe7"
      },
      "source": [
        "# energy shows expectation values on each Pauli sum in measure.\n",
        "energy"
      ],
      "execution_count": null,
      "outputs": []
    },
    {
      "cell_type": "code",
      "metadata": {
        "id": "rJmyrkkNbOhf"
      },
      "source": [
        "# Here is the total energy\n",
        "sum(energy)"
      ],
      "execution_count": null,
      "outputs": []
    },
    {
      "cell_type": "markdown",
      "metadata": {
        "id": "gZKvtE8rbr28"
      },
      "source": [
        "### Samples from the circuit"
      ]
    },
    {
      "cell_type": "code",
      "metadata": {
        "id": "PspLm1ZDWqlC"
      },
      "source": [
        "niter = 100\n",
        "samples = client.simulator.run(padded_circuit, resolver, niter)"
      ],
      "execution_count": null,
      "outputs": []
    },
    {
      "cell_type": "code",
      "metadata": {
        "id": "Bx7LNZmyZJtY"
      },
      "source": [
        "samples"
      ],
      "execution_count": null,
      "outputs": []
    },
    {
      "cell_type": "markdown",
      "metadata": {
        "id": "UbscoejqdheC"
      },
      "source": [
        "### Stop the Floq instance"
      ]
    },
    {
      "cell_type": "code",
      "metadata": {
        "id": "au7BJp1WdjjU"
      },
      "source": [
        "!floq-client \"$API_KEY\" worker stop"
      ],
      "execution_count": null,
      "outputs": []
    }
  ]
}